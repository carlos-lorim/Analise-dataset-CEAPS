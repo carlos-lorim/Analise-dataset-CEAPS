{
 "cells": [
  {
   "cell_type": "markdown",
   "id": "d5eb3088",
   "metadata": {},
   "source": [
    "# Day 1"
   ]
  },
  {
   "cell_type": "code",
   "execution_count": 45,
   "id": "acb9ed18",
   "metadata": {},
   "outputs": [
    {
     "name": "stdout",
     "output_type": "stream",
     "text": [
      "%pylab is deprecated, use %matplotlib inline and import the required libraries.\n",
      "Populating the interactive namespace from numpy and matplotlib\n"
     ]
    }
   ],
   "source": [
    "import pandas as pd\n",
    "import numpy as np\n",
    "import matplotlib.pyplot as plt\n",
    "import seaborn as sns\n",
    "\n",
    "plt.style.use('ggplot')\n",
    "%matplotlib inline\n",
    "%pylab inline"
   ]
  },
  {
   "cell_type": "markdown",
   "id": "53ba1b6e",
   "metadata": {},
   "source": [
    "### Carregando base de dados"
   ]
  },
  {
   "cell_type": "code",
   "execution_count": 46,
   "id": "41852251",
   "metadata": {},
   "outputs": [],
   "source": [
    "df = pd.read_csv(\"CEAPS_2008_2019.csv\")"
   ]
  },
  {
   "cell_type": "markdown",
   "id": "04f065e2",
   "metadata": {},
   "source": [
    "### Visualizando o tipo de variável de cada atributo"
   ]
  },
  {
   "cell_type": "code",
   "execution_count": 47,
   "id": "0cdd89f5",
   "metadata": {},
   "outputs": [
    {
     "name": "stdout",
     "output_type": "stream",
     "text": [
      "<class 'pandas.core.frame.DataFrame'>\n",
      "RangeIndex: 268899 entries, 0 to 268898\n",
      "Data columns (total 10 columns):\n",
      " #   Column             Non-Null Count   Dtype  \n",
      "---  ------             --------------   -----  \n",
      " 0   ANO                268899 non-null  int64  \n",
      " 1   MES                268899 non-null  int64  \n",
      " 2   SENADOR            268899 non-null  object \n",
      " 3   TIPO_DESPESA       268899 non-null  object \n",
      " 4   CNPJ_CPF           265755 non-null  object \n",
      " 5   FORNECEDOR         265755 non-null  object \n",
      " 6   DOCUMENTO          246750 non-null  object \n",
      " 7   DATA               265755 non-null  object \n",
      " 8   DETALHAMENTO       154368 non-null  object \n",
      " 9   VALOR_REEMBOLSADO  268897 non-null  float64\n",
      "dtypes: float64(1), int64(2), object(7)\n",
      "memory usage: 20.5+ MB\n"
     ]
    }
   ],
   "source": [
    "df.info()\n"
   ]
  },
  {
   "cell_type": "markdown",
   "id": "3e206ad4",
   "metadata": {},
   "source": [
    "### Visualizando 10 linhas aleatórias"
   ]
  },
  {
   "cell_type": "code",
   "execution_count": 48,
   "id": "45224817",
   "metadata": {},
   "outputs": [
    {
     "data": {
      "text/html": [
       "<div>\n",
       "<style scoped>\n",
       "    .dataframe tbody tr th:only-of-type {\n",
       "        vertical-align: middle;\n",
       "    }\n",
       "\n",
       "    .dataframe tbody tr th {\n",
       "        vertical-align: top;\n",
       "    }\n",
       "\n",
       "    .dataframe thead th {\n",
       "        text-align: right;\n",
       "    }\n",
       "</style>\n",
       "<table border=\"1\" class=\"dataframe\">\n",
       "  <thead>\n",
       "    <tr style=\"text-align: right;\">\n",
       "      <th></th>\n",
       "      <th>ANO</th>\n",
       "      <th>MES</th>\n",
       "      <th>SENADOR</th>\n",
       "      <th>TIPO_DESPESA</th>\n",
       "      <th>CNPJ_CPF</th>\n",
       "      <th>FORNECEDOR</th>\n",
       "      <th>DOCUMENTO</th>\n",
       "      <th>DATA</th>\n",
       "      <th>DETALHAMENTO</th>\n",
       "      <th>VALOR_REEMBOLSADO</th>\n",
       "    </tr>\n",
       "  </thead>\n",
       "  <tbody>\n",
       "    <tr>\n",
       "      <th>257581</th>\n",
       "      <td>2019</td>\n",
       "      <td>10</td>\n",
       "      <td>JOSÉ SERRA</td>\n",
       "      <td>Aluguel de imóveis para escritório político, c...</td>\n",
       "      <td>46.395.000/0001-39</td>\n",
       "      <td>Prefeitura do Município de São Paulo</td>\n",
       "      <td>NaN</td>\n",
       "      <td>24/07/2019</td>\n",
       "      <td>Senador José Serra - Despesa referente ao paga...</td>\n",
       "      <td>256.94</td>\n",
       "    </tr>\n",
       "    <tr>\n",
       "      <th>209551</th>\n",
       "      <td>2017</td>\n",
       "      <td>1</td>\n",
       "      <td>JOSÉ PIMENTEL</td>\n",
       "      <td>Locomoção, hospedagem, alimentação, combustíve...</td>\n",
       "      <td>23.496.359/0001-05</td>\n",
       "      <td>POSTO SÃO CRISTOVÃO</td>\n",
       "      <td>346355</td>\n",
       "      <td>03/01/2017</td>\n",
       "      <td>DESPESA COM COMBUSTÍVEL EM VEÍCULOS UTILIZADOS...</td>\n",
       "      <td>188.77</td>\n",
       "    </tr>\n",
       "    <tr>\n",
       "      <th>12738</th>\n",
       "      <td>2009</td>\n",
       "      <td>7</td>\n",
       "      <td>MARISA SERRANO</td>\n",
       "      <td>Aquisição de material de consumo para uso no e...</td>\n",
       "      <td>07.620.358/0001-66</td>\n",
       "      <td>Casa D'água</td>\n",
       "      <td>2882</td>\n",
       "      <td>01/07/2009</td>\n",
       "      <td>NaN</td>\n",
       "      <td>52.00</td>\n",
       "    </tr>\n",
       "    <tr>\n",
       "      <th>26982</th>\n",
       "      <td>2010</td>\n",
       "      <td>11</td>\n",
       "      <td>JARBAS VASCONCELOS</td>\n",
       "      <td>Contratação de consultorias, assessorias, pesq...</td>\n",
       "      <td>35.536.846/0001-25</td>\n",
       "      <td>Centro de Pesquisa de Mídia</td>\n",
       "      <td>733</td>\n",
       "      <td>19/11/2010</td>\n",
       "      <td>NaN</td>\n",
       "      <td>800.00</td>\n",
       "    </tr>\n",
       "    <tr>\n",
       "      <th>209411</th>\n",
       "      <td>2017</td>\n",
       "      <td>10</td>\n",
       "      <td>JOSÉ MEDEIROS</td>\n",
       "      <td>Aluguel de imóveis para escritório político, c...</td>\n",
       "      <td>02.558.157/0001-62</td>\n",
       "      <td>VIVO</td>\n",
       "      <td>S/N</td>\n",
       "      <td>26/10/2017</td>\n",
       "      <td>DESPESA COM TLEFONE CELULAR</td>\n",
       "      <td>100.70</td>\n",
       "    </tr>\n",
       "    <tr>\n",
       "      <th>240746</th>\n",
       "      <td>2018</td>\n",
       "      <td>5</td>\n",
       "      <td>PEDRO CHAVES DOS SANTOS FILHO</td>\n",
       "      <td>Aluguel de imóveis para escritório político, c...</td>\n",
       "      <td>40.432.544/0445-19</td>\n",
       "      <td>Net - Claro S.A</td>\n",
       "      <td>1.81E+12</td>\n",
       "      <td>16/05/2018</td>\n",
       "      <td>Pagamento de despesas com telefonia referente ...</td>\n",
       "      <td>972.74</td>\n",
       "    </tr>\n",
       "    <tr>\n",
       "      <th>81483</th>\n",
       "      <td>2012</td>\n",
       "      <td>4</td>\n",
       "      <td>MAGNO MALTA</td>\n",
       "      <td>Aluguel de imóveis para escritório político, c...</td>\n",
       "      <td>02.449.992/0081-49</td>\n",
       "      <td>VIVO</td>\n",
       "      <td>NaN</td>\n",
       "      <td>26/04/2012</td>\n",
       "      <td>NaN</td>\n",
       "      <td>225.50</td>\n",
       "    </tr>\n",
       "    <tr>\n",
       "      <th>88099</th>\n",
       "      <td>2012</td>\n",
       "      <td>5</td>\n",
       "      <td>ROBERTO REQUIÃO</td>\n",
       "      <td>Locomoção, hospedagem, alimentação, combustíve...</td>\n",
       "      <td>02.221.155/0001-83</td>\n",
       "      <td>CONCESSIONÁRIA ECOVIA CAMINHO DO MAR S/A</td>\n",
       "      <td>COO100667</td>\n",
       "      <td>14/05/2012</td>\n",
       "      <td>NaN</td>\n",
       "      <td>13.90</td>\n",
       "    </tr>\n",
       "    <tr>\n",
       "      <th>225979</th>\n",
       "      <td>2018</td>\n",
       "      <td>9</td>\n",
       "      <td>ATAÍDES OLIVEIRA</td>\n",
       "      <td>Aluguel de imóveis para escritório político, c...</td>\n",
       "      <td>13.851.500/0001-89</td>\n",
       "      <td>VANIA IMOVEIS LTDA ME</td>\n",
       "      <td>NaN</td>\n",
       "      <td>06/09/2018</td>\n",
       "      <td>NaN</td>\n",
       "      <td>2500.00</td>\n",
       "    </tr>\n",
       "    <tr>\n",
       "      <th>124815</th>\n",
       "      <td>2014</td>\n",
       "      <td>6</td>\n",
       "      <td>ANTÔNIO CARLOS VALADARES</td>\n",
       "      <td>Passagens aéreas, aquáticas e terrestres nacio...</td>\n",
       "      <td>02.575.829/0001-48</td>\n",
       "      <td>AVIANCA</td>\n",
       "      <td>6XRXHV</td>\n",
       "      <td>29/05/2014</td>\n",
       "      <td>Passagem aérea Senador Antonio Carlos Valadare...</td>\n",
       "      <td>839.30</td>\n",
       "    </tr>\n",
       "  </tbody>\n",
       "</table>\n",
       "</div>"
      ],
      "text/plain": [
       "         ANO  MES                        SENADOR  \\\n",
       "257581  2019   10                     JOSÉ SERRA   \n",
       "209551  2017    1                  JOSÉ PIMENTEL   \n",
       "12738   2009    7                 MARISA SERRANO   \n",
       "26982   2010   11             JARBAS VASCONCELOS   \n",
       "209411  2017   10                  JOSÉ MEDEIROS   \n",
       "240746  2018    5  PEDRO CHAVES DOS SANTOS FILHO   \n",
       "81483   2012    4                    MAGNO MALTA   \n",
       "88099   2012    5                ROBERTO REQUIÃO   \n",
       "225979  2018    9               ATAÍDES OLIVEIRA   \n",
       "124815  2014    6       ANTÔNIO CARLOS VALADARES   \n",
       "\n",
       "                                             TIPO_DESPESA            CNPJ_CPF  \\\n",
       "257581  Aluguel de imóveis para escritório político, c...  46.395.000/0001-39   \n",
       "209551  Locomoção, hospedagem, alimentação, combustíve...  23.496.359/0001-05   \n",
       "12738   Aquisição de material de consumo para uso no e...  07.620.358/0001-66   \n",
       "26982   Contratação de consultorias, assessorias, pesq...  35.536.846/0001-25   \n",
       "209411  Aluguel de imóveis para escritório político, c...  02.558.157/0001-62   \n",
       "240746  Aluguel de imóveis para escritório político, c...  40.432.544/0445-19   \n",
       "81483   Aluguel de imóveis para escritório político, c...  02.449.992/0081-49   \n",
       "88099   Locomoção, hospedagem, alimentação, combustíve...  02.221.155/0001-83   \n",
       "225979  Aluguel de imóveis para escritório político, c...  13.851.500/0001-89   \n",
       "124815  Passagens aéreas, aquáticas e terrestres nacio...  02.575.829/0001-48   \n",
       "\n",
       "                                      FORNECEDOR  DOCUMENTO        DATA  \\\n",
       "257581      Prefeitura do Município de São Paulo        NaN  24/07/2019   \n",
       "209551                       POSTO SÃO CRISTOVÃO     346355  03/01/2017   \n",
       "12738                                Casa D'água       2882  01/07/2009   \n",
       "26982                Centro de Pesquisa de Mídia        733  19/11/2010   \n",
       "209411                                      VIVO        S/N  26/10/2017   \n",
       "240746                           Net - Claro S.A   1.81E+12  16/05/2018   \n",
       "81483                                       VIVO        NaN  26/04/2012   \n",
       "88099   CONCESSIONÁRIA ECOVIA CAMINHO DO MAR S/A  COO100667  14/05/2012   \n",
       "225979                     VANIA IMOVEIS LTDA ME        NaN  06/09/2018   \n",
       "124815                                   AVIANCA     6XRXHV  29/05/2014   \n",
       "\n",
       "                                             DETALHAMENTO  VALOR_REEMBOLSADO  \n",
       "257581  Senador José Serra - Despesa referente ao paga...             256.94  \n",
       "209551  DESPESA COM COMBUSTÍVEL EM VEÍCULOS UTILIZADOS...             188.77  \n",
       "12738                                                 NaN              52.00  \n",
       "26982                                                 NaN             800.00  \n",
       "209411                        DESPESA COM TLEFONE CELULAR             100.70  \n",
       "240746  Pagamento de despesas com telefonia referente ...             972.74  \n",
       "81483                                                 NaN             225.50  \n",
       "88099                                                 NaN              13.90  \n",
       "225979                                                NaN            2500.00  \n",
       "124815  Passagem aérea Senador Antonio Carlos Valadare...             839.30  "
      ]
     },
     "execution_count": 48,
     "metadata": {},
     "output_type": "execute_result"
    }
   ],
   "source": [
    "df.sample(10)"
   ]
  },
  {
   "cell_type": "markdown",
   "id": "18a3c1e2",
   "metadata": {},
   "source": [
    "### Excluindo o atributo Documentos"
   ]
  },
  {
   "cell_type": "code",
   "execution_count": 49,
   "id": "243aef4d",
   "metadata": {},
   "outputs": [],
   "source": [
    "df.drop('DOCUMENTO', axis=1, inplace=True) "
   ]
  },
  {
   "cell_type": "markdown",
   "id": "5423625c",
   "metadata": {},
   "source": [
    "### verificando valores nulos "
   ]
  },
  {
   "cell_type": "code",
   "execution_count": 50,
   "id": "4ea40166",
   "metadata": {},
   "outputs": [
    {
     "data": {
      "text/plain": [
       "ANO                  False\n",
       "MES                  False\n",
       "SENADOR              False\n",
       "TIPO_DESPESA         False\n",
       "CNPJ_CPF              True\n",
       "FORNECEDOR            True\n",
       "DATA                  True\n",
       "DETALHAMENTO          True\n",
       "VALOR_REEMBOLSADO     True\n",
       "dtype: bool"
      ]
     },
     "execution_count": 50,
     "metadata": {},
     "output_type": "execute_result"
    }
   ],
   "source": [
    "df.isnull().any()"
   ]
  },
  {
   "cell_type": "code",
   "execution_count": 51,
   "id": "2bc66d00",
   "metadata": {},
   "outputs": [],
   "source": [
    "df.CNPJ_CPF = df.CNPJ_CPF.fillna('Nao Informado')\n",
    "df.FORNECEDOR = df.FORNECEDOR.fillna('Nao Informado')\n",
    "df.DETALHAMENTO = df.DETALHAMENTO.fillna('Nao Informado')\n",
    "df.DATA = df.DATA.fillna('Nao Informado')"
   ]
  },
  {
   "cell_type": "code",
   "execution_count": 52,
   "id": "dea0bcb2",
   "metadata": {},
   "outputs": [
    {
     "data": {
      "text/html": [
       "<div>\n",
       "<style scoped>\n",
       "    .dataframe tbody tr th:only-of-type {\n",
       "        vertical-align: middle;\n",
       "    }\n",
       "\n",
       "    .dataframe tbody tr th {\n",
       "        vertical-align: top;\n",
       "    }\n",
       "\n",
       "    .dataframe thead th {\n",
       "        text-align: right;\n",
       "    }\n",
       "</style>\n",
       "<table border=\"1\" class=\"dataframe\">\n",
       "  <thead>\n",
       "    <tr style=\"text-align: right;\">\n",
       "      <th></th>\n",
       "      <th>ANO</th>\n",
       "      <th>MES</th>\n",
       "      <th>SENADOR</th>\n",
       "      <th>TIPO_DESPESA</th>\n",
       "      <th>CNPJ_CPF</th>\n",
       "      <th>FORNECEDOR</th>\n",
       "      <th>DATA</th>\n",
       "      <th>DETALHAMENTO</th>\n",
       "      <th>VALOR_REEMBOLSADO</th>\n",
       "    </tr>\n",
       "  </thead>\n",
       "  <tbody>\n",
       "    <tr>\n",
       "      <th>149869</th>\n",
       "      <td>2015</td>\n",
       "      <td>8</td>\n",
       "      <td>EDUARDO AMORIM</td>\n",
       "      <td>Passagens aéreas, aquáticas e terrestres nacio...</td>\n",
       "      <td>13.353.495/0001-84</td>\n",
       "      <td>PROPAGTUR - Propag Turismo Ltda</td>\n",
       "      <td>Companhia Aérea: TAM, Localizador: YXGDSJ. Pas...</td>\n",
       "      <td>469,53</td>\n",
       "      <td>NaN</td>\n",
       "    </tr>\n",
       "    <tr>\n",
       "      <th>149876</th>\n",
       "      <td>2015</td>\n",
       "      <td>8</td>\n",
       "      <td>EDUARDO AMORIM</td>\n",
       "      <td>Passagens aéreas, aquáticas e terrestres nacio...</td>\n",
       "      <td>13.353.495/0001-84</td>\n",
       "      <td>PROPAGTUR - Propag Turismo Ltda</td>\n",
       "      <td>Companhia Aérea: AVIANCA, Localizador: ZNEU9F....</td>\n",
       "      <td>460,45</td>\n",
       "      <td>NaN</td>\n",
       "    </tr>\n",
       "  </tbody>\n",
       "</table>\n",
       "</div>"
      ],
      "text/plain": [
       "         ANO  MES         SENADOR  \\\n",
       "149869  2015    8  EDUARDO AMORIM   \n",
       "149876  2015    8  EDUARDO AMORIM   \n",
       "\n",
       "                                             TIPO_DESPESA            CNPJ_CPF  \\\n",
       "149869  Passagens aéreas, aquáticas e terrestres nacio...  13.353.495/0001-84   \n",
       "149876  Passagens aéreas, aquáticas e terrestres nacio...  13.353.495/0001-84   \n",
       "\n",
       "                             FORNECEDOR  \\\n",
       "149869  PROPAGTUR - Propag Turismo Ltda   \n",
       "149876  PROPAGTUR - Propag Turismo Ltda   \n",
       "\n",
       "                                                     DATA DETALHAMENTO  \\\n",
       "149869  Companhia Aérea: TAM, Localizador: YXGDSJ. Pas...       469,53   \n",
       "149876  Companhia Aérea: AVIANCA, Localizador: ZNEU9F....       460,45   \n",
       "\n",
       "        VALOR_REEMBOLSADO  \n",
       "149869                NaN  \n",
       "149876                NaN  "
      ]
     },
     "execution_count": 52,
     "metadata": {},
     "output_type": "execute_result"
    }
   ],
   "source": [
    "df[df['VALOR_REEMBOLSADO'].isnull()]"
   ]
  },
  {
   "cell_type": "code",
   "execution_count": 53,
   "id": "e0b110d9",
   "metadata": {},
   "outputs": [
    {
     "ename": "NameError",
     "evalue": "name 'NaN' is not defined",
     "output_type": "error",
     "traceback": [
      "\u001b[31m---------------------------------------------------------------------------\u001b[39m",
      "\u001b[31mNameError\u001b[39m                                 Traceback (most recent call last)",
      "\u001b[36mCell\u001b[39m\u001b[36m \u001b[39m\u001b[32mIn[53]\u001b[39m\u001b[32m, line 1\u001b[39m\n\u001b[32m----> \u001b[39m\u001b[32m1\u001b[39m df.loc[[\u001b[32m149869\u001b[39m],\u001b[33m'\u001b[39m\u001b[33mVALOR_REEMBOLSADO\u001b[39m\u001b[33m'\u001b[39m]=df.loc[[\u001b[32m149869\u001b[39m],\u001b[33m'\u001b[39m\u001b[33mVALOR_REEMBOLSADO\u001b[39m\u001b[33m'\u001b[39m].replace(\u001b[43mNaN\u001b[49m, \u001b[32m469.53\u001b[39m)\n\u001b[32m      2\u001b[39m df.loc[[\u001b[32m149876\u001b[39m],\u001b[33m'\u001b[39m\u001b[33mVALOR_REEMBOLSADO\u001b[39m\u001b[33m'\u001b[39m]=df.loc[[\u001b[32m149876\u001b[39m],\u001b[33m'\u001b[39m\u001b[33mVALOR_REEMBOLSADO\u001b[39m\u001b[33m'\u001b[39m].replace(NaN, \u001b[32m460.45\u001b[39m)\n",
      "\u001b[31mNameError\u001b[39m: name 'NaN' is not defined"
     ]
    }
   ],
   "source": [
    "df.loc[[149869],'VALOR_REEMBOLSADO']=df.loc[[149869],'VALOR_REEMBOLSADO'].replace(NaN, 469.53)\n",
    "df.loc[[149876],'VALOR_REEMBOLSADO']=df.loc[[149876],'VALOR_REEMBOLSADO'].replace(NaN, 460.45)"
   ]
  },
  {
   "cell_type": "code",
   "execution_count": null,
   "id": "8b332fc1",
   "metadata": {},
   "outputs": [
    {
     "data": {
      "text/html": [
       "<div>\n",
       "<style scoped>\n",
       "    .dataframe tbody tr th:only-of-type {\n",
       "        vertical-align: middle;\n",
       "    }\n",
       "\n",
       "    .dataframe tbody tr th {\n",
       "        vertical-align: top;\n",
       "    }\n",
       "\n",
       "    .dataframe thead th {\n",
       "        text-align: right;\n",
       "    }\n",
       "</style>\n",
       "<table border=\"1\" class=\"dataframe\">\n",
       "  <thead>\n",
       "    <tr style=\"text-align: right;\">\n",
       "      <th></th>\n",
       "      <th>ANO</th>\n",
       "      <th>MES</th>\n",
       "      <th>SENADOR</th>\n",
       "      <th>TIPO_DESPESA</th>\n",
       "      <th>CNPJ_CPF</th>\n",
       "      <th>FORNECEDOR</th>\n",
       "      <th>DATA</th>\n",
       "      <th>DETALHAMENTO</th>\n",
       "      <th>VALOR_REEMBOLSADO</th>\n",
       "    </tr>\n",
       "  </thead>\n",
       "  <tbody>\n",
       "    <tr>\n",
       "      <th>149869</th>\n",
       "      <td>2015</td>\n",
       "      <td>8</td>\n",
       "      <td>EDUARDO AMORIM</td>\n",
       "      <td>Passagens aéreas, aquáticas e terrestres nacio...</td>\n",
       "      <td>13.353.495/0001-84</td>\n",
       "      <td>PROPAGTUR - Propag Turismo Ltda</td>\n",
       "      <td>Companhia Aérea: TAM, Localizador: YXGDSJ. Pas...</td>\n",
       "      <td>469,53</td>\n",
       "      <td>469.53</td>\n",
       "    </tr>\n",
       "    <tr>\n",
       "      <th>149876</th>\n",
       "      <td>2015</td>\n",
       "      <td>8</td>\n",
       "      <td>EDUARDO AMORIM</td>\n",
       "      <td>Passagens aéreas, aquáticas e terrestres nacio...</td>\n",
       "      <td>13.353.495/0001-84</td>\n",
       "      <td>PROPAGTUR - Propag Turismo Ltda</td>\n",
       "      <td>Companhia Aérea: AVIANCA, Localizador: ZNEU9F....</td>\n",
       "      <td>460,45</td>\n",
       "      <td>460.45</td>\n",
       "    </tr>\n",
       "  </tbody>\n",
       "</table>\n",
       "</div>"
      ],
      "text/plain": [
       "         ANO  MES         SENADOR  \\\n",
       "149869  2015    8  EDUARDO AMORIM   \n",
       "149876  2015    8  EDUARDO AMORIM   \n",
       "\n",
       "                                             TIPO_DESPESA            CNPJ_CPF  \\\n",
       "149869  Passagens aéreas, aquáticas e terrestres nacio...  13.353.495/0001-84   \n",
       "149876  Passagens aéreas, aquáticas e terrestres nacio...  13.353.495/0001-84   \n",
       "\n",
       "                             FORNECEDOR  \\\n",
       "149869  PROPAGTUR - Propag Turismo Ltda   \n",
       "149876  PROPAGTUR - Propag Turismo Ltda   \n",
       "\n",
       "                                                     DATA DETALHAMENTO  \\\n",
       "149869  Companhia Aérea: TAM, Localizador: YXGDSJ. Pas...       469,53   \n",
       "149876  Companhia Aérea: AVIANCA, Localizador: ZNEU9F....       460,45   \n",
       "\n",
       "        VALOR_REEMBOLSADO  \n",
       "149869             469.53  \n",
       "149876             460.45  "
      ]
     },
     "execution_count": 107,
     "metadata": {},
     "output_type": "execute_result"
    }
   ],
   "source": [
    "df.loc[[149869,149876]]\n"
   ]
  },
  {
   "cell_type": "code",
   "execution_count": null,
   "id": "3c17f982",
   "metadata": {},
   "outputs": [
    {
     "data": {
      "text/plain": [
       "ANO                  False\n",
       "MES                  False\n",
       "SENADOR              False\n",
       "TIPO_DESPESA         False\n",
       "CNPJ_CPF             False\n",
       "FORNECEDOR           False\n",
       "DATA                 False\n",
       "DETALHAMENTO         False\n",
       "VALOR_REEMBOLSADO    False\n",
       "dtype: bool"
      ]
     },
     "execution_count": 108,
     "metadata": {},
     "output_type": "execute_result"
    }
   ],
   "source": [
    "df.isnull().any()"
   ]
  },
  {
   "cell_type": "code",
   "execution_count": null,
   "id": "0cd67124",
   "metadata": {},
   "outputs": [
    {
     "data": {
      "text/html": [
       "<div>\n",
       "<style scoped>\n",
       "    .dataframe tbody tr th:only-of-type {\n",
       "        vertical-align: middle;\n",
       "    }\n",
       "\n",
       "    .dataframe tbody tr th {\n",
       "        vertical-align: top;\n",
       "    }\n",
       "\n",
       "    .dataframe thead th {\n",
       "        text-align: right;\n",
       "    }\n",
       "</style>\n",
       "<table border=\"1\" class=\"dataframe\">\n",
       "  <thead>\n",
       "    <tr style=\"text-align: right;\">\n",
       "      <th></th>\n",
       "      <th>ANO</th>\n",
       "      <th>MES</th>\n",
       "      <th>SENADOR</th>\n",
       "      <th>TIPO_DESPESA</th>\n",
       "      <th>CNPJ_CPF</th>\n",
       "      <th>FORNECEDOR</th>\n",
       "      <th>DATA</th>\n",
       "      <th>DETALHAMENTO</th>\n",
       "      <th>VALOR_REEMBOLSADO</th>\n",
       "    </tr>\n",
       "  </thead>\n",
       "  <tbody>\n",
       "    <tr>\n",
       "      <th>162849</th>\n",
       "      <td>2015</td>\n",
       "      <td>1</td>\n",
       "      <td>RANDOLFE RODRIGUES</td>\n",
       "      <td>Passagens aéreas, aquáticas e terrestres nacio...</td>\n",
       "      <td>02.012.862/0001-60</td>\n",
       "      <td>Tam Linhas Aereas S/A</td>\n",
       "      <td>28/01/2015</td>\n",
       "      <td>9572100929351 - R$ 1.298,93 (1º bilhete emitid...</td>\n",
       "      <td>-9.0</td>\n",
       "    </tr>\n",
       "    <tr>\n",
       "      <th>200967</th>\n",
       "      <td>2017</td>\n",
       "      <td>5</td>\n",
       "      <td>DÁRIO BERGER</td>\n",
       "      <td>Contratação de consultorias, assessorias, pesq...</td>\n",
       "      <td>73.228.876/0001-63</td>\n",
       "      <td>TV CLIPAGEM LTDA. EPP.</td>\n",
       "      <td>02/06/2017</td>\n",
       "      <td>Despesa com Monitoramento de Informação Jornal...</td>\n",
       "      <td>-243.4</td>\n",
       "    </tr>\n",
       "  </tbody>\n",
       "</table>\n",
       "</div>"
      ],
      "text/plain": [
       "         ANO  MES             SENADOR  \\\n",
       "162849  2015    1  RANDOLFE RODRIGUES   \n",
       "200967  2017    5        DÁRIO BERGER   \n",
       "\n",
       "                                             TIPO_DESPESA            CNPJ_CPF  \\\n",
       "162849  Passagens aéreas, aquáticas e terrestres nacio...  02.012.862/0001-60   \n",
       "200967  Contratação de consultorias, assessorias, pesq...  73.228.876/0001-63   \n",
       "\n",
       "                    FORNECEDOR        DATA  \\\n",
       "162849   Tam Linhas Aereas S/A  28/01/2015   \n",
       "200967  TV CLIPAGEM LTDA. EPP.  02/06/2017   \n",
       "\n",
       "                                             DETALHAMENTO  VALOR_REEMBOLSADO  \n",
       "162849  9572100929351 - R$ 1.298,93 (1º bilhete emitid...               -9.0  \n",
       "200967  Despesa com Monitoramento de Informação Jornal...             -243.4  "
      ]
     },
     "execution_count": 109,
     "metadata": {},
     "output_type": "execute_result"
    }
   ],
   "source": [
    "df[df['VALOR_REEMBOLSADO']<0]"
   ]
  },
  {
   "cell_type": "markdown",
   "id": "3cb727dc",
   "metadata": {},
   "source": [
    "### Convertendo os valores negativos para valores absolutos"
   ]
  },
  {
   "cell_type": "code",
   "execution_count": null,
   "id": "ec62dc06",
   "metadata": {},
   "outputs": [],
   "source": [
    "df['VALOR_REEMBOLSADO'] = abs(df['VALOR_REEMBOLSADO'])"
   ]
  },
  {
   "cell_type": "markdown",
   "id": "1f9890df",
   "metadata": {},
   "source": [
    "# Day 2"
   ]
  },
  {
   "cell_type": "markdown",
   "id": "8d0f5c35",
   "metadata": {},
   "source": [
    "### Vendo colunas"
   ]
  },
  {
   "cell_type": "code",
   "execution_count": null,
   "id": "b60c2106",
   "metadata": {},
   "outputs": [
    {
     "data": {
      "text/plain": [
       "Index(['ANO', 'MES', 'SENADOR', 'TIPO_DESPESA', 'CNPJ_CPF', 'FORNECEDOR',\n",
       "       'DATA', 'DETALHAMENTO', 'VALOR_REEMBOLSADO'],\n",
       "      dtype='object')"
      ]
     },
     "execution_count": 19,
     "metadata": {},
     "output_type": "execute_result"
    }
   ],
   "source": [
    "df.columns\n"
   ]
  },
  {
   "cell_type": "markdown",
   "id": "a5659896",
   "metadata": {},
   "source": [
    "### Evolução dos gastos ao longo dos anos"
   ]
  },
  {
   "cell_type": "code",
   "execution_count": null,
   "id": "72c39750",
   "metadata": {},
   "outputs": [
    {
     "data": {
      "text/plain": [
       "<Axes: title={'center': 'Gastos Totais por Ano'}, xlabel='ANO'>"
      ]
     },
     "execution_count": 20,
     "metadata": {},
     "output_type": "execute_result"
    },
    {
     "data": {
      "image/png": "[encoded data removed]",
      "text/plain": [
       "<Figure size 1000x500 with 1 Axes>"
      ]
     },
     "metadata": {},
     "output_type": "display_data"
    }
   ],
   "source": [
    "# Gastos totais por ano\n",
    "gastos_ano = df.groupby(\"ANO\")[\"VALOR_REEMBOLSADO\"].sum()\n",
    "\n",
    "gastos_ano.plot(kind=\"bar\", figsize=(10,5), title=\"Gastos Totais por Ano\")\n"
   ]
  },
  {
   "cell_type": "markdown",
   "id": "cfa7ecb1",
   "metadata": {},
   "source": [
    "### Tipos de depesas mais gastos\n"
   ]
  },
  {
   "cell_type": "code",
   "execution_count": null,
   "id": "a2f6bfe1",
   "metadata": {},
   "outputs": [
    {
     "data": {
      "text/html": [
       "<style type=\"text/css\">\n",
       "</style>\n",
       "<table id=\"T_93933\">\n",
       "  <thead>\n",
       "    <tr>\n",
       "      <th class=\"blank level0\" >&nbsp;</th>\n",
       "      <th id=\"T_93933_level0_col0\" class=\"col_heading level0 col0\" >TIPO_DESPESA</th>\n",
       "      <th id=\"T_93933_level0_col1\" class=\"col_heading level0 col1\" >VALOR_REEMBOLSADO</th>\n",
       "    </tr>\n",
       "  </thead>\n",
       "  <tbody>\n",
       "    <tr>\n",
       "      <th id=\"T_93933_level0_row0\" class=\"row_heading level0 row0\" >0</th>\n",
       "      <td id=\"T_93933_row0_col0\" class=\"data row0 col0\" >Locomoção, hospedagem, alimentação, combustíveis e lubrificantes</td>\n",
       "      <td id=\"T_93933_row0_col1\" class=\"data row0 col1\" >R$64,056,430.15</td>\n",
       "    </tr>\n",
       "    <tr>\n",
       "      <th id=\"T_93933_level0_row1\" class=\"row_heading level0 row1\" >1</th>\n",
       "      <td id=\"T_93933_row1_col0\" class=\"data row1 col0\" >Passagens aéreas, aquáticas e terrestres nacionais</td>\n",
       "      <td id=\"T_93933_row1_col1\" class=\"data row1 col1\" >R$56,388,198.82</td>\n",
       "    </tr>\n",
       "    <tr>\n",
       "      <th id=\"T_93933_level0_row2\" class=\"row_heading level0 row2\" >2</th>\n",
       "      <td id=\"T_93933_row2_col0\" class=\"data row2 col0\" >Aluguel de imóveis para escritório político, compreendendo despesas concernentes a eles.</td>\n",
       "      <td id=\"T_93933_row2_col1\" class=\"data row2 col1\" >R$47,922,809.61</td>\n",
       "    </tr>\n",
       "    <tr>\n",
       "      <th id=\"T_93933_level0_row3\" class=\"row_heading level0 row3\" >3</th>\n",
       "      <td id=\"T_93933_row3_col0\" class=\"data row3 col0\" >Contratação de consultorias, assessorias, pesquisas, trabalhos técnicos e outros serviços de apoio ao exercício do mandato parlamentar</td>\n",
       "      <td id=\"T_93933_row3_col1\" class=\"data row3 col1\" >R$37,193,016.49</td>\n",
       "    </tr>\n",
       "    <tr>\n",
       "      <th id=\"T_93933_level0_row4\" class=\"row_heading level0 row4\" >4</th>\n",
       "      <td id=\"T_93933_row4_col0\" class=\"data row4 col0\" >Divulgação da atividade parlamentar</td>\n",
       "      <td id=\"T_93933_row4_col1\" class=\"data row4 col1\" >R$31,828,000.34</td>\n",
       "    </tr>\n",
       "    <tr>\n",
       "      <th id=\"T_93933_level0_row5\" class=\"row_heading level0 row5\" >5</th>\n",
       "      <td id=\"T_93933_row5_col0\" class=\"data row5 col0\" >Aquisição de material de consumo para uso no escritório político, inclusive aquisição ou locação de software, despesas postais, aquisição de publicações, locação de móveis e de equipamentos. </td>\n",
       "      <td id=\"T_93933_row5_col1\" class=\"data row5 col1\" >R$9,806,573.89</td>\n",
       "    </tr>\n",
       "    <tr>\n",
       "      <th id=\"T_93933_level0_row6\" class=\"row_heading level0 row6\" >6</th>\n",
       "      <td id=\"T_93933_row6_col0\" class=\"data row6 col0\" >Serviços de Segurança Privada</td>\n",
       "      <td id=\"T_93933_row6_col1\" class=\"data row6 col1\" >R$2,995,828.11</td>\n",
       "    </tr>\n",
       "  </tbody>\n",
       "</table>\n"
      ],
      "text/plain": [
       "<pandas.io.formats.style.Styler at 0x7c3e6c21c2f0>"
      ]
     },
     "execution_count": 14,
     "metadata": {},
     "output_type": "execute_result"
    }
   ],
   "source": [
    "# Agrupar os gastos por tipo de despesa e pegar os top 10\n",
    "despesas_top10 = (\n",
    "    df.groupby(\"TIPO_DESPESA\")[\"VALOR_REEMBOLSADO\"]\n",
    "      .sum()\n",
    "      .sort_values(ascending=False)\n",
    "      .head(10)\n",
    "      .reset_index()  # Para transformar em DataFrame e poder usar .style\n",
    ")\n",
    "\n",
    "# Formatar os valores em moeda brasileira\n",
    "despesas_top10.style.format({\"VALOR_REEMBOLSADO\": \"R${:,.2f}\"})\n"
   ]
  },
  {
   "cell_type": "markdown",
   "id": "2bd0735a",
   "metadata": {},
   "source": [
    "### Meses com mais gastos"
   ]
  },
  {
   "cell_type": "code",
   "execution_count": null,
   "id": "68daeaf4",
   "metadata": {},
   "outputs": [
    {
     "data": {
      "image/png": "[encoded data removed]",
      "text/plain": [
       "<Figure size 1000x500 with 1 Axes>"
      ]
     },
     "metadata": {},
     "output_type": "display_data"
    }
   ],
   "source": [
    "# Agrupar gastos por mês\n",
    "gastos_mes = df.groupby(\"MES\")[\"VALOR_REEMBOLSADO\"].sum()\n",
    "\n",
    "# Plot simples e limpo\n",
    "plt.figure(figsize=(10,5))\n",
    "gastos_mes.plot(kind=\"bar\", color=\"skyblue\")\n",
    "plt.title(\"Gastos por Mês\", fontsize=14)\n",
    "plt.xlabel(\"Mês\")\n",
    "plt.ylabel(\"Valor Reembolsado (R$)\")\n",
    "plt.xticks(rotation=0)  # Deixa os meses na horizontal\n",
    "plt.tight_layout()\n",
    "plt.show()\n"
   ]
  },
  {
   "cell_type": "markdown",
   "id": "34f4a43b",
   "metadata": {},
   "source": [
    "### Maiores gastadores (parlamentares)"
   ]
  },
  {
   "cell_type": "code",
   "execution_count": null,
   "id": "b8ce695c",
   "metadata": {},
   "outputs": [
    {
     "data": {
      "text/plain": [
       "SENADOR\n",
       "FERNANDO COLLOR       4003025.92\n",
       "SÉRGIO PETECÃO        3879296.95\n",
       "VANESSA GRAZZIOTIN    3862755.80\n",
       "CIRO NOGUEIRA         3852571.98\n",
       "ROMERO JUCÁ           3839386.45\n",
       "PAULO PAIM            3786962.67\n",
       "VALDIR RAUPP          3647510.60\n",
       "HUMBERTO COSTA        3559354.26\n",
       "RANDOLFE RODRIGUES    3469375.37\n",
       "JOÃO CAPIBERIBE       3452652.17\n",
       "Name: VALOR_REEMBOLSADO, dtype: float64"
      ]
     },
     "execution_count": 23,
     "metadata": {},
     "output_type": "execute_result"
    }
   ],
   "source": [
    "# Top 10 senadores que mais gastaram no período todo\n",
    "top_gastadores = (\n",
    "    df.groupby(\"SENADOR\")[\"VALOR_REEMBOLSADO\"]\n",
    "      .sum()\n",
    "      .sort_values(ascending=False)\n",
    "      .head(10)\n",
    ")\n",
    "\n",
    "top_gastadores\n"
   ]
  },
  {
   "cell_type": "code",
   "execution_count": null,
   "id": "629dadf1",
   "metadata": {},
   "outputs": [
    {
     "data": {
      "text/plain": [
       "<Axes: title={'center': 'Top 10 Senadores que Mais Gastaram'}, xlabel='SENADOR'>"
      ]
     },
     "execution_count": 24,
     "metadata": {},
     "output_type": "execute_result"
    },
    {
     "data": {
      "image/png": "[encoded data removed]",
      "text/plain": [
       "<Figure size 1200x600 with 1 Axes>"
      ]
     },
     "metadata": {},
     "output_type": "display_data"
    }
   ],
   "source": [
    "top_gastadores.plot(kind=\"bar\", figsize=(12,6), title=\"Top 10 Senadores que Mais Gastaram\")\n"
   ]
  },
  {
   "cell_type": "markdown",
   "id": "a2fa7787",
   "metadata": {},
   "source": [
    "### Categoria de despesas "
   ]
  },
  {
   "cell_type": "code",
   "execution_count": null,
   "id": "c0e342d3",
   "metadata": {},
   "outputs": [
    {
     "data": {
      "text/plain": [
       "TIPO_DESPESA\n",
       "Locomoção, hospedagem, alimentação, combustíveis e lubrificantes                                                                                                                                   64056430.15\n",
       "Passagens aéreas, aquáticas e terrestres nacionais                                                                                                                                                 56388198.82\n",
       "Aluguel de imóveis para escritório político, compreendendo despesas concernentes a eles.                                                                                                           47922809.61\n",
       "Contratação de consultorias, assessorias, pesquisas, trabalhos técnicos e outros serviços de apoio ao exercício do mandato parlamentar                                                             37193016.49\n",
       "Divulgação da atividade parlamentar                                                                                                                                                                31828000.34\n",
       "Aquisição de material de consumo para uso no escritório político, inclusive aquisição ou locação de software, despesas postais, aquisição de publicações, locação de móveis e de equipamentos.      9806573.89\n",
       "Serviços de Segurança Privada                                                                                                                                                                       2995828.11\n",
       "Name: VALOR_REEMBOLSADO, dtype: float64"
      ]
     },
     "execution_count": 25,
     "metadata": {},
     "output_type": "execute_result"
    }
   ],
   "source": [
    "# Gastos por tipo de despesa\n",
    "categorias = df.groupby(\"TIPO_DESPESA\")[\"VALOR_REEMBOLSADO\"].sum().sort_values(ascending=False)\n",
    "categorias\n"
   ]
  },
  {
   "cell_type": "markdown",
   "id": "9ae8c1d8",
   "metadata": {},
   "source": [
    "### Boxplot dos gastos\n"
   ]
  }
 ],
 "metadata": {
  "kernelspec": {
   "display_name": ".venv",
   "language": "python",
   "name": "python3"
  },
  "language_info": {
   "codemirror_mode": {
    "name": "ipython",
    "version": 3
   },
   "file_extension": ".py",
   "mimetype": "text/x-python",
   "name": "python",
   "nbconvert_exporter": "python",
   "pygments_lexer": "ipython3",
   "version": "3.12.3"
  }
 },
 "nbformat": 4,
 "nbformat_minor": 5
}
