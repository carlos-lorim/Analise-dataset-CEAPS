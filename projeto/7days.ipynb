{
 "cells": [
  {
   "cell_type": "code",
   "execution_count": 98,
   "id": "3bc6eab0",
   "metadata": {},
   "outputs": [
    {
     "name": "stdout",
     "output_type": "stream",
     "text": [
      "%pylab is deprecated, use %matplotlib inline and import the required libraries.\n",
      "Populating the interactive namespace from numpy and matplotlib\n"
     ]
    }
   ],
   "source": [
    "import pandas as pd\n",
    "import numpy as np\n",
    "import matplotlib.pyplot as plt\n",
    "import seaborn as sns\n",
    "\n",
    "plt.style.use('ggplot')\n",
    "%matplotlib inline\n",
    "%pylab inline"
   ]
  },
  {
   "cell_type": "markdown",
   "id": "53ba1b6e",
   "metadata": {},
   "source": [
    "### Carregando base de dados"
   ]
  },
  {
   "cell_type": "code",
   "execution_count": 99,
   "id": "41852251",
   "metadata": {},
   "outputs": [],
   "source": [
    "df = pd.read_csv(\"CEAPS_2008_2019.csv\")"
   ]
  },
  {
   "cell_type": "markdown",
   "id": "04f065e2",
   "metadata": {},
   "source": [
    "### Visualizando o tipo de variável de cada atributo"
   ]
  },
  {
   "cell_type": "code",
   "execution_count": 100,
   "id": "0cdd89f5",
   "metadata": {},
   "outputs": [
    {
     "name": "stdout",
     "output_type": "stream",
     "text": [
      "<class 'pandas.core.frame.DataFrame'>\n",
      "RangeIndex: 268899 entries, 0 to 268898\n",
      "Data columns (total 10 columns):\n",
      " #   Column             Non-Null Count   Dtype  \n",
      "---  ------             --------------   -----  \n",
      " 0   ANO                268899 non-null  int64  \n",
      " 1   MES                268899 non-null  int64  \n",
      " 2   SENADOR            268899 non-null  object \n",
      " 3   TIPO_DESPESA       268899 non-null  object \n",
      " 4   CNPJ_CPF           265755 non-null  object \n",
      " 5   FORNECEDOR         265755 non-null  object \n",
      " 6   DOCUMENTO          246750 non-null  object \n",
      " 7   DATA               265755 non-null  object \n",
      " 8   DETALHAMENTO       154368 non-null  object \n",
      " 9   VALOR_REEMBOLSADO  268897 non-null  float64\n",
      "dtypes: float64(1), int64(2), object(7)\n",
      "memory usage: 20.5+ MB\n"
     ]
    }
   ],
   "source": [
    "df.info()\n"
   ]
  },
  {
   "cell_type": "markdown",
   "id": "3e206ad4",
   "metadata": {},
   "source": [
    "### Visualizando 10 linhas aleatórias"
   ]
  },
  {
   "cell_type": "code",
   "execution_count": 101,
   "id": "45224817",
   "metadata": {},
   "outputs": [
    {
     "data": {
      "text/html": [
       "<div>\n",
       "<style scoped>\n",
       "    .dataframe tbody tr th:only-of-type {\n",
       "        vertical-align: middle;\n",
       "    }\n",
       "\n",
       "    .dataframe tbody tr th {\n",
       "        vertical-align: top;\n",
       "    }\n",
       "\n",
       "    .dataframe thead th {\n",
       "        text-align: right;\n",
       "    }\n",
       "</style>\n",
       "<table border=\"1\" class=\"dataframe\">\n",
       "  <thead>\n",
       "    <tr style=\"text-align: right;\">\n",
       "      <th></th>\n",
       "      <th>ANO</th>\n",
       "      <th>MES</th>\n",
       "      <th>SENADOR</th>\n",
       "      <th>TIPO_DESPESA</th>\n",
       "      <th>CNPJ_CPF</th>\n",
       "      <th>FORNECEDOR</th>\n",
       "      <th>DOCUMENTO</th>\n",
       "      <th>DATA</th>\n",
       "      <th>DETALHAMENTO</th>\n",
       "      <th>VALOR_REEMBOLSADO</th>\n",
       "    </tr>\n",
       "  </thead>\n",
       "  <tbody>\n",
       "    <tr>\n",
       "      <th>89905</th>\n",
       "      <td>2012</td>\n",
       "      <td>10</td>\n",
       "      <td>SÉRGIO SOUZA</td>\n",
       "      <td>Aquisição de material de consumo para uso no e...</td>\n",
       "      <td>02.050.639/0002-98</td>\n",
       "      <td>CASA DO ESCRITORIO</td>\n",
       "      <td>8385</td>\n",
       "      <td>11/10/2012</td>\n",
       "      <td>NaN</td>\n",
       "      <td>239.91</td>\n",
       "    </tr>\n",
       "    <tr>\n",
       "      <th>56642</th>\n",
       "      <td>2011</td>\n",
       "      <td>7</td>\n",
       "      <td>PAULO PAIM</td>\n",
       "      <td>Locomoção, hospedagem, alimentação, combustíve...</td>\n",
       "      <td>01.654.604/0002-03</td>\n",
       "      <td>Concessionária Rod. Osório-Porto Alegre S/A</td>\n",
       "      <td>2002701312060044</td>\n",
       "      <td>30/07/2011</td>\n",
       "      <td>NaN</td>\n",
       "      <td>3.70</td>\n",
       "    </tr>\n",
       "    <tr>\n",
       "      <th>26987</th>\n",
       "      <td>2010</td>\n",
       "      <td>11</td>\n",
       "      <td>JARBAS VASCONCELOS</td>\n",
       "      <td>Locomoção, hospedagem, alimentação, combustíve...</td>\n",
       "      <td>03.956.495/0001-15</td>\n",
       "      <td>RPS</td>\n",
       "      <td>179368</td>\n",
       "      <td>24/11/2010</td>\n",
       "      <td>NaN</td>\n",
       "      <td>314.60</td>\n",
       "    </tr>\n",
       "    <tr>\n",
       "      <th>215735</th>\n",
       "      <td>2017</td>\n",
       "      <td>6</td>\n",
       "      <td>RAIMUNDO LIRA</td>\n",
       "      <td>Divulgação da atividade parlamentar</td>\n",
       "      <td>06.076.039/0001-79</td>\n",
       "      <td>CNB CENTRAL DE NOTÍCIAS BRASILEIRAS LTDA</td>\n",
       "      <td>1343</td>\n",
       "      <td>23/06/2017</td>\n",
       "      <td>DIVULGAÇÃO DA ATIVIDADE PARLAMENTAR DO SENADOR...</td>\n",
       "      <td>2000.00</td>\n",
       "    </tr>\n",
       "    <tr>\n",
       "      <th>51711</th>\n",
       "      <td>2011</td>\n",
       "      <td>1</td>\n",
       "      <td>MARINA SILVA</td>\n",
       "      <td>Aluguel de imóveis para escritório político, c...</td>\n",
       "      <td>63.600.449/0001-00</td>\n",
       "      <td>Arras Imóveis</td>\n",
       "      <td>12007</td>\n",
       "      <td>20/01/2011</td>\n",
       "      <td>NaN</td>\n",
       "      <td>1400.00</td>\n",
       "    </tr>\n",
       "    <tr>\n",
       "      <th>8311</th>\n",
       "      <td>2009</td>\n",
       "      <td>9</td>\n",
       "      <td>HERÁCLITO FORTES</td>\n",
       "      <td>Aluguel de imóveis para escritório político, c...</td>\n",
       "      <td>06.840.748/0001-89</td>\n",
       "      <td>CEPISA - Companhia Energética do Piauí</td>\n",
       "      <td>NaN</td>\n",
       "      <td>01/09/2009</td>\n",
       "      <td>NaN</td>\n",
       "      <td>711.39</td>\n",
       "    </tr>\n",
       "    <tr>\n",
       "      <th>16742</th>\n",
       "      <td>2009</td>\n",
       "      <td>7</td>\n",
       "      <td>ROSALBA CIARLINI</td>\n",
       "      <td>Divulgação da atividade parlamentar</td>\n",
       "      <td>03.348.102/0001-90</td>\n",
       "      <td>Alexandre Ferreira Mulatinho</td>\n",
       "      <td>001064</td>\n",
       "      <td>04/08/2009</td>\n",
       "      <td>NaN</td>\n",
       "      <td>2000.00</td>\n",
       "    </tr>\n",
       "    <tr>\n",
       "      <th>109173</th>\n",
       "      <td>2013</td>\n",
       "      <td>5</td>\n",
       "      <td>LÍDICE DA MATA</td>\n",
       "      <td>Aluguel de imóveis para escritório político, c...</td>\n",
       "      <td>01.996.385/0001-51</td>\n",
       "      <td>BACONE SERVIÇOS CENTRAIS TELEFÕNICOS E COMÉRCI...</td>\n",
       "      <td>2013461</td>\n",
       "      <td>07/05/2013</td>\n",
       "      <td>DESPESA COM LOCAÇÃO DE CENTRAL TELEFÕNICA NO E...</td>\n",
       "      <td>230.00</td>\n",
       "    </tr>\n",
       "    <tr>\n",
       "      <th>67691</th>\n",
       "      <td>2012</td>\n",
       "      <td>6</td>\n",
       "      <td>CASILDO MALDANER</td>\n",
       "      <td>Aquisição de material de consumo para uso no e...</td>\n",
       "      <td>73.403.362/0001-05</td>\n",
       "      <td>Folha do Oeste - Editora Jornalistica Folha do...</td>\n",
       "      <td>008969</td>\n",
       "      <td>20/06/2012</td>\n",
       "      <td>NaN</td>\n",
       "      <td>320.00</td>\n",
       "    </tr>\n",
       "    <tr>\n",
       "      <th>18231</th>\n",
       "      <td>2009</td>\n",
       "      <td>11</td>\n",
       "      <td>VALTER PEREIRA</td>\n",
       "      <td>Divulgação da atividade parlamentar</td>\n",
       "      <td>03.379.930/0001-96</td>\n",
       "      <td>SOCIEDADE RADIO CLUBE DE CORUMBÁ LTDA</td>\n",
       "      <td>2279</td>\n",
       "      <td>18/11/2009</td>\n",
       "      <td>NaN</td>\n",
       "      <td>450.00</td>\n",
       "    </tr>\n",
       "  </tbody>\n",
       "</table>\n",
       "</div>"
      ],
      "text/plain": [
       "         ANO  MES             SENADOR  \\\n",
       "89905   2012   10        SÉRGIO SOUZA   \n",
       "56642   2011    7          PAULO PAIM   \n",
       "26987   2010   11  JARBAS VASCONCELOS   \n",
       "215735  2017    6       RAIMUNDO LIRA   \n",
       "51711   2011    1        MARINA SILVA   \n",
       "8311    2009    9    HERÁCLITO FORTES   \n",
       "16742   2009    7    ROSALBA CIARLINI   \n",
       "109173  2013    5      LÍDICE DA MATA   \n",
       "67691   2012    6    CASILDO MALDANER   \n",
       "18231   2009   11      VALTER PEREIRA   \n",
       "\n",
       "                                             TIPO_DESPESA            CNPJ_CPF  \\\n",
       "89905   Aquisição de material de consumo para uso no e...  02.050.639/0002-98   \n",
       "56642   Locomoção, hospedagem, alimentação, combustíve...  01.654.604/0002-03   \n",
       "26987   Locomoção, hospedagem, alimentação, combustíve...  03.956.495/0001-15   \n",
       "215735                Divulgação da atividade parlamentar  06.076.039/0001-79   \n",
       "51711   Aluguel de imóveis para escritório político, c...  63.600.449/0001-00   \n",
       "8311    Aluguel de imóveis para escritório político, c...  06.840.748/0001-89   \n",
       "16742                 Divulgação da atividade parlamentar  03.348.102/0001-90   \n",
       "109173  Aluguel de imóveis para escritório político, c...  01.996.385/0001-51   \n",
       "67691   Aquisição de material de consumo para uso no e...  73.403.362/0001-05   \n",
       "18231                 Divulgação da atividade parlamentar  03.379.930/0001-96   \n",
       "\n",
       "                                               FORNECEDOR         DOCUMENTO  \\\n",
       "89905                                  CASA DO ESCRITORIO              8385   \n",
       "56642         Concessionária Rod. Osório-Porto Alegre S/A  2002701312060044   \n",
       "26987                                                RPS             179368   \n",
       "215735           CNB CENTRAL DE NOTÍCIAS BRASILEIRAS LTDA              1343   \n",
       "51711                                      Arras Imóveis              12007   \n",
       "8311               CEPISA - Companhia Energética do Piauí               NaN   \n",
       "16742                        Alexandre Ferreira Mulatinho            001064   \n",
       "109173  BACONE SERVIÇOS CENTRAIS TELEFÕNICOS E COMÉRCI...           2013461   \n",
       "67691   Folha do Oeste - Editora Jornalistica Folha do...            008969   \n",
       "18231               SOCIEDADE RADIO CLUBE DE CORUMBÁ LTDA              2279   \n",
       "\n",
       "              DATA                                       DETALHAMENTO  \\\n",
       "89905   11/10/2012                                                NaN   \n",
       "56642   30/07/2011                                                NaN   \n",
       "26987   24/11/2010                                                NaN   \n",
       "215735  23/06/2017  DIVULGAÇÃO DA ATIVIDADE PARLAMENTAR DO SENADOR...   \n",
       "51711   20/01/2011                                                NaN   \n",
       "8311    01/09/2009                                                NaN   \n",
       "16742   04/08/2009                                                NaN   \n",
       "109173  07/05/2013  DESPESA COM LOCAÇÃO DE CENTRAL TELEFÕNICA NO E...   \n",
       "67691   20/06/2012                                                NaN   \n",
       "18231   18/11/2009                                                NaN   \n",
       "\n",
       "        VALOR_REEMBOLSADO  \n",
       "89905              239.91  \n",
       "56642                3.70  \n",
       "26987              314.60  \n",
       "215735            2000.00  \n",
       "51711             1400.00  \n",
       "8311               711.39  \n",
       "16742             2000.00  \n",
       "109173             230.00  \n",
       "67691              320.00  \n",
       "18231              450.00  "
      ]
     },
     "execution_count": 101,
     "metadata": {},
     "output_type": "execute_result"
    }
   ],
   "source": [
    "df.sample(10)"
   ]
  },
  {
   "cell_type": "markdown",
   "id": "18a3c1e2",
   "metadata": {},
   "source": [
    "### Excluindo o atributo Documentos"
   ]
  },
  {
   "cell_type": "code",
   "execution_count": 102,
   "id": "243aef4d",
   "metadata": {},
   "outputs": [],
   "source": [
    "df.drop('DOCUMENTO', axis=1, inplace=True) "
   ]
  },
  {
   "cell_type": "markdown",
   "id": "5423625c",
   "metadata": {},
   "source": [
    "### verificando valores nulos "
   ]
  },
  {
   "cell_type": "code",
   "execution_count": 103,
   "id": "4ea40166",
   "metadata": {},
   "outputs": [
    {
     "data": {
      "text/plain": [
       "ANO                  False\n",
       "MES                  False\n",
       "SENADOR              False\n",
       "TIPO_DESPESA         False\n",
       "CNPJ_CPF              True\n",
       "FORNECEDOR            True\n",
       "DATA                  True\n",
       "DETALHAMENTO          True\n",
       "VALOR_REEMBOLSADO     True\n",
       "dtype: bool"
      ]
     },
     "execution_count": 103,
     "metadata": {},
     "output_type": "execute_result"
    }
   ],
   "source": [
    "df.isnull().any()"
   ]
  },
  {
   "cell_type": "code",
   "execution_count": 104,
   "id": "2bc66d00",
   "metadata": {},
   "outputs": [],
   "source": [
    "df.CNPJ_CPF = df.CNPJ_CPF.fillna('Nao Informado')\n",
    "df.FORNECEDOR = df.FORNECEDOR.fillna('Nao Informado')\n",
    "df.DETALHAMENTO = df.DETALHAMENTO.fillna('Nao Informado')\n",
    "df.DATA = df.DATA.fillna('Nao Informado')"
   ]
  },
  {
   "cell_type": "code",
   "execution_count": 105,
   "id": "dea0bcb2",
   "metadata": {},
   "outputs": [
    {
     "data": {
      "text/html": [
       "<div>\n",
       "<style scoped>\n",
       "    .dataframe tbody tr th:only-of-type {\n",
       "        vertical-align: middle;\n",
       "    }\n",
       "\n",
       "    .dataframe tbody tr th {\n",
       "        vertical-align: top;\n",
       "    }\n",
       "\n",
       "    .dataframe thead th {\n",
       "        text-align: right;\n",
       "    }\n",
       "</style>\n",
       "<table border=\"1\" class=\"dataframe\">\n",
       "  <thead>\n",
       "    <tr style=\"text-align: right;\">\n",
       "      <th></th>\n",
       "      <th>ANO</th>\n",
       "      <th>MES</th>\n",
       "      <th>SENADOR</th>\n",
       "      <th>TIPO_DESPESA</th>\n",
       "      <th>CNPJ_CPF</th>\n",
       "      <th>FORNECEDOR</th>\n",
       "      <th>DATA</th>\n",
       "      <th>DETALHAMENTO</th>\n",
       "      <th>VALOR_REEMBOLSADO</th>\n",
       "    </tr>\n",
       "  </thead>\n",
       "  <tbody>\n",
       "    <tr>\n",
       "      <th>149869</th>\n",
       "      <td>2015</td>\n",
       "      <td>8</td>\n",
       "      <td>EDUARDO AMORIM</td>\n",
       "      <td>Passagens aéreas, aquáticas e terrestres nacio...</td>\n",
       "      <td>13.353.495/0001-84</td>\n",
       "      <td>PROPAGTUR - Propag Turismo Ltda</td>\n",
       "      <td>Companhia Aérea: TAM, Localizador: YXGDSJ. Pas...</td>\n",
       "      <td>469,53</td>\n",
       "      <td>NaN</td>\n",
       "    </tr>\n",
       "    <tr>\n",
       "      <th>149876</th>\n",
       "      <td>2015</td>\n",
       "      <td>8</td>\n",
       "      <td>EDUARDO AMORIM</td>\n",
       "      <td>Passagens aéreas, aquáticas e terrestres nacio...</td>\n",
       "      <td>13.353.495/0001-84</td>\n",
       "      <td>PROPAGTUR - Propag Turismo Ltda</td>\n",
       "      <td>Companhia Aérea: AVIANCA, Localizador: ZNEU9F....</td>\n",
       "      <td>460,45</td>\n",
       "      <td>NaN</td>\n",
       "    </tr>\n",
       "  </tbody>\n",
       "</table>\n",
       "</div>"
      ],
      "text/plain": [
       "         ANO  MES         SENADOR  \\\n",
       "149869  2015    8  EDUARDO AMORIM   \n",
       "149876  2015    8  EDUARDO AMORIM   \n",
       "\n",
       "                                             TIPO_DESPESA            CNPJ_CPF  \\\n",
       "149869  Passagens aéreas, aquáticas e terrestres nacio...  13.353.495/0001-84   \n",
       "149876  Passagens aéreas, aquáticas e terrestres nacio...  13.353.495/0001-84   \n",
       "\n",
       "                             FORNECEDOR  \\\n",
       "149869  PROPAGTUR - Propag Turismo Ltda   \n",
       "149876  PROPAGTUR - Propag Turismo Ltda   \n",
       "\n",
       "                                                     DATA DETALHAMENTO  \\\n",
       "149869  Companhia Aérea: TAM, Localizador: YXGDSJ. Pas...       469,53   \n",
       "149876  Companhia Aérea: AVIANCA, Localizador: ZNEU9F....       460,45   \n",
       "\n",
       "        VALOR_REEMBOLSADO  \n",
       "149869                NaN  \n",
       "149876                NaN  "
      ]
     },
     "execution_count": 105,
     "metadata": {},
     "output_type": "execute_result"
    }
   ],
   "source": [
    "df[df['VALOR_REEMBOLSADO'].isnull()]"
   ]
  },
  {
   "cell_type": "code",
   "execution_count": 106,
   "id": "e0b110d9",
   "metadata": {},
   "outputs": [],
   "source": [
    "df.loc[[149869],'VALOR_REEMBOLSADO']=df.loc[[149869],'VALOR_REEMBOLSADO'].replace(NaN, 469.53)\n",
    "df.loc[[149876],'VALOR_REEMBOLSADO']=df.loc[[149876],'VALOR_REEMBOLSADO'].replace(NaN, 460.45)"
   ]
  },
  {
   "cell_type": "code",
   "execution_count": 107,
   "id": "8b332fc1",
   "metadata": {},
   "outputs": [
    {
     "data": {
      "text/html": [
       "<div>\n",
       "<style scoped>\n",
       "    .dataframe tbody tr th:only-of-type {\n",
       "        vertical-align: middle;\n",
       "    }\n",
       "\n",
       "    .dataframe tbody tr th {\n",
       "        vertical-align: top;\n",
       "    }\n",
       "\n",
       "    .dataframe thead th {\n",
       "        text-align: right;\n",
       "    }\n",
       "</style>\n",
       "<table border=\"1\" class=\"dataframe\">\n",
       "  <thead>\n",
       "    <tr style=\"text-align: right;\">\n",
       "      <th></th>\n",
       "      <th>ANO</th>\n",
       "      <th>MES</th>\n",
       "      <th>SENADOR</th>\n",
       "      <th>TIPO_DESPESA</th>\n",
       "      <th>CNPJ_CPF</th>\n",
       "      <th>FORNECEDOR</th>\n",
       "      <th>DATA</th>\n",
       "      <th>DETALHAMENTO</th>\n",
       "      <th>VALOR_REEMBOLSADO</th>\n",
       "    </tr>\n",
       "  </thead>\n",
       "  <tbody>\n",
       "    <tr>\n",
       "      <th>149869</th>\n",
       "      <td>2015</td>\n",
       "      <td>8</td>\n",
       "      <td>EDUARDO AMORIM</td>\n",
       "      <td>Passagens aéreas, aquáticas e terrestres nacio...</td>\n",
       "      <td>13.353.495/0001-84</td>\n",
       "      <td>PROPAGTUR - Propag Turismo Ltda</td>\n",
       "      <td>Companhia Aérea: TAM, Localizador: YXGDSJ. Pas...</td>\n",
       "      <td>469,53</td>\n",
       "      <td>469.53</td>\n",
       "    </tr>\n",
       "    <tr>\n",
       "      <th>149876</th>\n",
       "      <td>2015</td>\n",
       "      <td>8</td>\n",
       "      <td>EDUARDO AMORIM</td>\n",
       "      <td>Passagens aéreas, aquáticas e terrestres nacio...</td>\n",
       "      <td>13.353.495/0001-84</td>\n",
       "      <td>PROPAGTUR - Propag Turismo Ltda</td>\n",
       "      <td>Companhia Aérea: AVIANCA, Localizador: ZNEU9F....</td>\n",
       "      <td>460,45</td>\n",
       "      <td>460.45</td>\n",
       "    </tr>\n",
       "  </tbody>\n",
       "</table>\n",
       "</div>"
      ],
      "text/plain": [
       "         ANO  MES         SENADOR  \\\n",
       "149869  2015    8  EDUARDO AMORIM   \n",
       "149876  2015    8  EDUARDO AMORIM   \n",
       "\n",
       "                                             TIPO_DESPESA            CNPJ_CPF  \\\n",
       "149869  Passagens aéreas, aquáticas e terrestres nacio...  13.353.495/0001-84   \n",
       "149876  Passagens aéreas, aquáticas e terrestres nacio...  13.353.495/0001-84   \n",
       "\n",
       "                             FORNECEDOR  \\\n",
       "149869  PROPAGTUR - Propag Turismo Ltda   \n",
       "149876  PROPAGTUR - Propag Turismo Ltda   \n",
       "\n",
       "                                                     DATA DETALHAMENTO  \\\n",
       "149869  Companhia Aérea: TAM, Localizador: YXGDSJ. Pas...       469,53   \n",
       "149876  Companhia Aérea: AVIANCA, Localizador: ZNEU9F....       460,45   \n",
       "\n",
       "        VALOR_REEMBOLSADO  \n",
       "149869             469.53  \n",
       "149876             460.45  "
      ]
     },
     "execution_count": 107,
     "metadata": {},
     "output_type": "execute_result"
    }
   ],
   "source": [
    "df.loc[[149869,149876]]\n"
   ]
  },
  {
   "cell_type": "code",
   "execution_count": 108,
   "id": "3c17f982",
   "metadata": {},
   "outputs": [
    {
     "data": {
      "text/plain": [
       "ANO                  False\n",
       "MES                  False\n",
       "SENADOR              False\n",
       "TIPO_DESPESA         False\n",
       "CNPJ_CPF             False\n",
       "FORNECEDOR           False\n",
       "DATA                 False\n",
       "DETALHAMENTO         False\n",
       "VALOR_REEMBOLSADO    False\n",
       "dtype: bool"
      ]
     },
     "execution_count": 108,
     "metadata": {},
     "output_type": "execute_result"
    }
   ],
   "source": [
    "df.isnull().any()"
   ]
  },
  {
   "cell_type": "code",
   "execution_count": 109,
   "id": "0cd67124",
   "metadata": {},
   "outputs": [
    {
     "data": {
      "text/html": [
       "<div>\n",
       "<style scoped>\n",
       "    .dataframe tbody tr th:only-of-type {\n",
       "        vertical-align: middle;\n",
       "    }\n",
       "\n",
       "    .dataframe tbody tr th {\n",
       "        vertical-align: top;\n",
       "    }\n",
       "\n",
       "    .dataframe thead th {\n",
       "        text-align: right;\n",
       "    }\n",
       "</style>\n",
       "<table border=\"1\" class=\"dataframe\">\n",
       "  <thead>\n",
       "    <tr style=\"text-align: right;\">\n",
       "      <th></th>\n",
       "      <th>ANO</th>\n",
       "      <th>MES</th>\n",
       "      <th>SENADOR</th>\n",
       "      <th>TIPO_DESPESA</th>\n",
       "      <th>CNPJ_CPF</th>\n",
       "      <th>FORNECEDOR</th>\n",
       "      <th>DATA</th>\n",
       "      <th>DETALHAMENTO</th>\n",
       "      <th>VALOR_REEMBOLSADO</th>\n",
       "    </tr>\n",
       "  </thead>\n",
       "  <tbody>\n",
       "    <tr>\n",
       "      <th>162849</th>\n",
       "      <td>2015</td>\n",
       "      <td>1</td>\n",
       "      <td>RANDOLFE RODRIGUES</td>\n",
       "      <td>Passagens aéreas, aquáticas e terrestres nacio...</td>\n",
       "      <td>02.012.862/0001-60</td>\n",
       "      <td>Tam Linhas Aereas S/A</td>\n",
       "      <td>28/01/2015</td>\n",
       "      <td>9572100929351 - R$ 1.298,93 (1º bilhete emitid...</td>\n",
       "      <td>-9.0</td>\n",
       "    </tr>\n",
       "    <tr>\n",
       "      <th>200967</th>\n",
       "      <td>2017</td>\n",
       "      <td>5</td>\n",
       "      <td>DÁRIO BERGER</td>\n",
       "      <td>Contratação de consultorias, assessorias, pesq...</td>\n",
       "      <td>73.228.876/0001-63</td>\n",
       "      <td>TV CLIPAGEM LTDA. EPP.</td>\n",
       "      <td>02/06/2017</td>\n",
       "      <td>Despesa com Monitoramento de Informação Jornal...</td>\n",
       "      <td>-243.4</td>\n",
       "    </tr>\n",
       "  </tbody>\n",
       "</table>\n",
       "</div>"
      ],
      "text/plain": [
       "         ANO  MES             SENADOR  \\\n",
       "162849  2015    1  RANDOLFE RODRIGUES   \n",
       "200967  2017    5        DÁRIO BERGER   \n",
       "\n",
       "                                             TIPO_DESPESA            CNPJ_CPF  \\\n",
       "162849  Passagens aéreas, aquáticas e terrestres nacio...  02.012.862/0001-60   \n",
       "200967  Contratação de consultorias, assessorias, pesq...  73.228.876/0001-63   \n",
       "\n",
       "                    FORNECEDOR        DATA  \\\n",
       "162849   Tam Linhas Aereas S/A  28/01/2015   \n",
       "200967  TV CLIPAGEM LTDA. EPP.  02/06/2017   \n",
       "\n",
       "                                             DETALHAMENTO  VALOR_REEMBOLSADO  \n",
       "162849  9572100929351 - R$ 1.298,93 (1º bilhete emitid...               -9.0  \n",
       "200967  Despesa com Monitoramento de Informação Jornal...             -243.4  "
      ]
     },
     "execution_count": 109,
     "metadata": {},
     "output_type": "execute_result"
    }
   ],
   "source": [
    "df[df['VALOR_REEMBOLSADO']<0]"
   ]
  },
  {
   "cell_type": "markdown",
   "id": "3cb727dc",
   "metadata": {},
   "source": [
    "### Convertendo os valores negativos para valores absolutos"
   ]
  },
  {
   "cell_type": "code",
   "execution_count": 110,
   "id": "ec62dc06",
   "metadata": {},
   "outputs": [],
   "source": [
    "df['VALOR_REEMBOLSADO'] = abs(df['VALOR_REEMBOLSADO'])"
   ]
  }
 ],
 "metadata": {
  "kernelspec": {
   "display_name": "Python 3",
   "language": "python",
   "name": "python3"
  },
  "language_info": {
   "codemirror_mode": {
    "name": "ipython",
    "version": 3
   },
   "file_extension": ".py",
   "mimetype": "text/x-python",
   "name": "python",
   "nbconvert_exporter": "python",
   "pygments_lexer": "ipython3",
   "version": "3.10.12"
  }
 },
 "nbformat": 4,
 "nbformat_minor": 5
}
